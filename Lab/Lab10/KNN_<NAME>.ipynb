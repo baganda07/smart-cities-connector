{
 "cells": [
  {
   "cell_type": "markdown",
   "metadata": {},
   "source": [
    "### CE88: Data Science for Smart Cities - 11/13/17\n",
    "\n",
    "# *kNN: Transportation forecasting*\n",
    "\n",
    "In this lab session, we will analyze mode choice as a function of ***delta_travel_time***, and ***delta_travel_cost***, the difference in travel time and cost between the transit travel option and the driving travel option. We will build a method to predict the travel mode for a trip based on the travel mode of the \"nearest neighbors\". "
   ]
  },
  {
   "cell_type": "code",
   "execution_count": null,
   "metadata": {
    "collapsed": true
   },
   "outputs": [],
   "source": [
    "from datascience import *\n",
    "import numpy as np\n",
    "import matplotlib.pyplot as plt\n",
    "import warnings\n",
    "warnings.filterwarnings('ignore')\n",
    "%matplotlib inline"
   ]
  },
  {
   "cell_type": "code",
   "execution_count": null,
   "metadata": {},
   "outputs": [],
   "source": [
    "mc = Table.read_table('modechoice_training_raw.csv')\n",
    "mc"
   ]
  },
  {
   "cell_type": "markdown",
   "metadata": {},
   "source": [
    "# 1. Data processing\n",
    "## 1.1 Compare drive vs. transit travel time/cost\n",
    "\n",
    "We compute the ***delta_travel_time*** and ***delta_travel_cost*** for trips where choice = transit and where choice = drive. "
   ]
  },
  {
   "cell_type": "code",
   "execution_count": null,
   "metadata": {
    "collapsed": true
   },
   "outputs": [],
   "source": [
    "# From transit_drive_avail, store the rows where the mode 'choice' is 'walk_transit_walk'\n",
    "# in a table called took_transit\n",
    "took_transit = mc.where('choice','walk_transit_walk')\n",
    "\n",
    "# from transit_drive_avail, store the rows where the selected mode 'choice' is 'drive_alone'\n",
    "drove = mc.where('choice','drive_alone')\n",
    "\n",
    "# Compute the difference in travel time (the 'total_travel_time_walk_transit_walk' column-\n",
    "# the 'total_travel_time_drive_alone' column) for people who took transit.\n",
    "chose_wtw_tt_delta = (took_transit.column('total_travel_time_walk_transit_walk')-\n",
    "                      took_transit.column('total_travel_time_drive_alone'))\n",
    "\n",
    "# Compute the difference in travel time (the 'total_travel_time_walk_transit_walk' column-\n",
    "# the 'total_travel_time_drive_alone' column) for people who drove.\n",
    "chose_drive_tt_delta = (drove.column('total_travel_time_walk_transit_walk')-\n",
    "                        drove.column('total_travel_time_drive_alone'))\n",
    "\n",
    "# Compute the cost delta for transit cost vs. drive alone cost for people who took tranist\n",
    "chose_wtw_cost_delta = \n",
    "\n",
    "# Compute the cost delta for transit cost vs. drive alone cost for people who drove\n",
    "chose_drive_cost_delta = "
   ]
  },
  {
   "cell_type": "markdown",
   "metadata": {},
   "source": [
    "## 1.2 Visualize the data\n",
    "Visualize the data to see what the data set looks like."
   ]
  },
  {
   "cell_type": "code",
   "execution_count": null,
   "metadata": {},
   "outputs": [],
   "source": [
    "plt.scatter(chose_wtw_tt_delta, chose_wtw_cost_delta, color='blue', \n",
    "            alpha=.5, label = 'took transit')\n",
    "\n",
    "plt.scatter(chose_drive_tt_delta, chose_drive_cost_delta, color='green', alpha=.5, label = 'drove')\n",
    "\n",
    "plt.xlabel('delta travel time (min)')\n",
    "plt.ylabel('delta travel cost ($)')\n",
    "plt.legend(shadow=True)\n"
   ]
  },
  {
   "cell_type": "markdown",
   "metadata": {},
   "source": [
    "## 1.3 Build the input data table\n",
    "We need to build a table that contains the response variable (the thing we want to predict - in this case, whether someone will drive or not), and the inputs that will be used to predict the response variable (in this case ***delta_travel_time*** and ***delta_travel_cost***). "
   ]
  },
  {
   "cell_type": "code",
   "execution_count": null,
   "metadata": {},
   "outputs": [],
   "source": [
    "# First create a table that contains the inputs of choice = drive alone\n",
    "input_table = Table().with_columns('transit_time-drive_time', chose_drive_tt_delta,\n",
    "                                   'transit_cost-drive_cost', chose_drive_cost_delta,\n",
    "                                   'choice=drive',1)\n",
    "\n",
    "# And create a table that contains the inputs of choice = walk transit walk\n",
    "transit_input_table = Table().with_columns('transit_time-drive_time', chose_wtw_tt_delta,\n",
    "                                           'transit_cost-drive_cost', chose_wtw_cost_delta,\n",
    "                                           'choice=drive',0)\n",
    "# Then merge the tables\n",
    "input_table.append(transit_input_table)"
   ]
  },
  {
   "cell_type": "markdown",
   "metadata": {},
   "source": [
    "## 1.4 Normalize the data.\n",
    "If the input data columns are all in the same units, then we're good to go, but if they are in different units, i.e one column contains travel time in minutes and another column contains travel cost in dollars, a distance measure doesn't make a lot of sense. Instead we normalize the data and for every column. The \"units\" of the normalized data is how many standard deviations the data point is from the mean. I have built a norm() helper function to normalize the data. Later we will use the transform function to modify a new point that we want to predict in the same that we have modified the other points."
   ]
  },
  {
   "cell_type": "code",
   "execution_count": null,
   "metadata": {
    "collapsed": true
   },
   "outputs": [],
   "source": [
    "def norm(data):\n",
    "    # Get the deviation of the data from the mean\n",
    "    x_minus_mean = data - np.mean(data)\n",
    "    \n",
    "    # Get the normalized data with respect to its standard deviation\n",
    "    x_norm = x_minus_mean/np.std(data)\n",
    "    return x_norm\n",
    "\n",
    "def transform(to_predict, data):\n",
    "    return (to_predict - np.mean(data))/np.std(data)\n",
    "\n",
    "\n",
    "# Your task: create two new columns in the table, one called 'normed_transit_time-drive_time', \n",
    "#            another called 'normed_transit_cost-drive_cost'. The values in these two columns should be\n",
    "#            the normalized values of 'transit_time-drive_time' and 'transit_cost-drive_cost'. Use the\n",
    "#            norm() function above to help you out:\n",
    "\n",
    "#Answer key:\n",
    "input_table['normed_transit_time-drive_time'] = \n",
    "input_table['normed_transit_cost-drive_cost'] = "
   ]
  },
  {
   "cell_type": "markdown",
   "metadata": {},
   "source": [
    "# 2. Build a classifier\n",
    "\n",
    "\n",
    "## 2.1 Determine a distance function\n",
    "Since we need to identify the nearest neighbors, we first need to choose a distance function. In this case we will use a euclidean distance function.\n",
    "\n",
    "The euclidean distance between two points x=(x1,x2) and y=(y1,y2) is determined as\n",
    "$ \\sqrt{(x_1-y_1)^2 + (x_2-y_2)^2} $"
   ]
  },
  {
   "cell_type": "code",
   "execution_count": null,
   "metadata": {},
   "outputs": [],
   "source": [
    "def distance(x, y):\n",
    "    #Your task: complete the function that returns an array of \n",
    "    #           the euclidean distances between each element of x and y\n",
    "    #           where x and y are multi-dimensional arrays\n",
    "    #           consisting of the coordinates of points\n",
    "    #           e.g., x = [[0,0],[1,0],[1,1]], y = [[1,0],[0,0],[0,0]]\n",
    "    #(HINT: use np.sqrt() to get a squared root)\n",
    "    # Answer key:\n",
    "\n",
    "# Verify your function:\n",
    "x = np.array([[0,0],[1,0],[1,1]])\n",
    "y = np.array([[1,0],[0,0],[0,0]])\n",
    "print(distance(x, y)) # This must print: [ 1. 1. 1.41421356]\n",
    "\n",
    "# This should also work with a single point...\n",
    "x = [0,0]\n",
    "y = np.array([[1,0],[1,1],[0,1]])\n",
    "print(distance(x, y)) # This must print: [ 1. 1.41421356  1.]"
   ]
  },
  {
   "cell_type": "markdown",
   "metadata": {},
   "source": [
    "## 2.2 Determine a function to find the k nearest points"
   ]
  },
  {
   "cell_type": "code",
   "execution_count": 5,
   "metadata": {},
   "outputs": [
    {
     "ename": "SyntaxError",
     "evalue": "invalid syntax (<ipython-input-5-c2552f86d9f8>, line 14)",
     "output_type": "error",
     "traceback": [
      "\u001b[0;36m  File \u001b[0;32m\"<ipython-input-5-c2552f86d9f8>\"\u001b[0;36m, line \u001b[0;32m14\u001b[0m\n\u001b[0;31m    input_data = ;\u001b[0m\n\u001b[0m                 ^\u001b[0m\n\u001b[0;31mSyntaxError\u001b[0m\u001b[0;31m:\u001b[0m invalid syntax\n"
     ]
    }
   ],
   "source": [
    "def predict(input_table, to_predict, k, return_kneighbor_inds=True):\n",
    "    '''\n",
    "    to_predict: A single input data point. It should contain one value \n",
    "       for each of the columns in the input_data table.\n",
    "    return_kneighbor_inds: boolean. If True, return the indices of the\n",
    "        nearest neighbors from the input table, otherwise, only the \n",
    "        majority category of the k-nearest neighbors is returned.\n",
    "    '''\n",
    "\n",
    "    # Your task: get input data as a multi-demensional array that has two columns: \n",
    "    #           'normed_transit_time-drive_time' and 'normed_transit_cost-drive_cost'\n",
    "    # (HINT: use \"Table.values\" to convert a Table to an array)\n",
    "    # Answer key:\n",
    "    input_data = \n",
    "\n",
    "    # Your task: get distance between input_data to to_predict\n",
    "    # Answer key:\n",
    "    dists = \n",
    "\n",
    "    # Your task: get indices of k nearest points\n",
    "    # (HINT: use np.argsort(array) to get an index array of values sorted in ascending order)\n",
    "    # Answer Key:\n",
    "    inds = \n",
    "\n",
    "    # Your task: return the most common response among the neighbors\n",
    "    # (HINT: use np.bincount() to get an array of counts of duplicated elements)\n",
    "    most_common_response = \n",
    "    \n",
    "    if return_kneighbor_inds:\n",
    "        print('responses: ' + str(input_table['choice=drive'][inds]))\n",
    "        print('counts: ' + str(np.bincount(input_table['choice=drive'][inds])))\n",
    "        return most_common_response, inds\n",
    "    return most_common_response\n",
    "\n",
    "# Example of np.argsort()\n",
    "print(\"result of np.argsort([1,3,2]): \" + str(np.argsort([1,3,2])))\n",
    "\n",
    "# Example of np.bincount():\n",
    "print(\"result of np.bincount([0,1,1,0,0,0]): \" + str(np.bincount([0,1,1,0,0,0])))"
   ]
  },
  {
   "cell_type": "markdown",
   "metadata": {},
   "source": [
    "## 2.3 Prediction example"
   ]
  },
  {
   "cell_type": "markdown",
   "metadata": {},
   "source": [
    "### 2.3a Prediction"
   ]
  },
  {
   "cell_type": "code",
   "execution_count": null,
   "metadata": {},
   "outputs": [],
   "source": [
    "# Determine k\n",
    "k = 5\n",
    "\n",
    "# Set to_predict =[25,1.5] This means we are predicting the travel mode of a trip with \n",
    "# delta_travel_time = 25 min, delta_travel_cost = 1.5\n",
    "to_predict = [25,1.5]\n",
    "\n",
    "#transform the first element of this point to find out how many standard deviations \n",
    "#the delta_travel_time is from the mean. Do the same for delta_travel_cost\n",
    "normed_to_predict = [transform(to_predict[0],input_table['transit_time-drive_time']),\n",
    "                     transform(to_predict[1],input_table['transit_cost-drive_cost'])]\n",
    "print('normed_to_predict: ' + str(normed_to_predict))\n",
    "\n",
    "\n",
    "prediction, nn_inds = predict(input_table, normed_to_predict, k, True)\n",
    "predicted_travel_mode = 'drive' if prediction ==1 else 'take transit'\n",
    "\n",
    "print ('Based on the k=%d nearest neighbors, the predicted travel mode is %s' %(k,predicted_travel_mode))"
   ]
  },
  {
   "cell_type": "markdown",
   "metadata": {},
   "source": [
    "### 2.3b Verify results\n",
    "Make sure we are actually locating the nearest neighbors. In the cell below we use the Table take() method to see which rows have been identied as nearest neighbors. Take a look at the values and confirm that they are similar to the values of the to_predict point. "
   ]
  },
  {
   "cell_type": "code",
   "execution_count": null,
   "metadata": {},
   "outputs": [],
   "source": [
    "input_table.take[nn_inds]"
   ]
  },
  {
   "cell_type": "markdown",
   "metadata": {},
   "source": [
    "### 2.3c Visualize the nearest neighbors\n",
    "Below is the same scatter poing that we plotted above, but now we have added a black dot for the to_predict point, and added red circles to identify the nearest neighbors to the observed point."
   ]
  },
  {
   "cell_type": "code",
   "execution_count": null,
   "metadata": {},
   "outputs": [],
   "source": [
    "plt.figure(figsize=(12,8))\n",
    "\n",
    "nn_to_plot = input_table.take[nn_inds]\n",
    "\n",
    "plt.scatter(chose_wtw_tt_delta, chose_wtw_cost_delta, color='blue', \n",
    "            alpha=.5, label = 'took transit')\n",
    "plt.scatter(chose_drive_tt_delta, chose_drive_cost_delta, color='green', \n",
    "            alpha=.5, label = 'drove')\n",
    "plt.scatter(nn_to_plot['transit_time-drive_time'], nn_to_plot['transit_cost-drive_cost'], \n",
    "            facecolors='none', edgecolors='red', label = 'nearest neighbors')\n",
    "plt.scatter([to_predict[0]],[to_predict[1]], color='black', label = 'to_predict')\n",
    "\n",
    "plt.xlabel('delta travel time (min)')\n",
    "plt.ylabel('delta travel cost ($)')\n",
    "plt.legend(shadow=True)"
   ]
  },
  {
   "cell_type": "markdown",
   "metadata": {},
   "source": [
    "## 3.4 Classification accuracy"
   ]
  },
  {
   "cell_type": "markdown",
   "metadata": {},
   "source": [
    "### 3.4a Load training dataset\n",
    "We already processed the testing dataset as we did for the training dataset."
   ]
  },
  {
   "cell_type": "code",
   "execution_count": null,
   "metadata": {},
   "outputs": [],
   "source": [
    "# load training dataset\n",
    "test = Table.read_table('modechoice_testing_input.csv')\n",
    "test"
   ]
  },
  {
   "cell_type": "markdown",
   "metadata": {},
   "source": [
    "### 3.4b Predict testing datasets given training dataset and store the predictions in a new column"
   ]
  },
  {
   "cell_type": "code",
   "execution_count": null,
   "metadata": {},
   "outputs": [],
   "source": [
    "# determine k\n",
    "k = 5\n",
    "\n",
    "# Your task: predict each row of test dataset with respect to \"normed_transit_time-drive_time\" \n",
    "#           and \"normed_transit_cost-drive_cost\" based on the training dataset, \"input_table\", \n",
    "#           and store the predictions in a new column \"predicted\" in the test table\n",
    "# (HINT: use Table.apply(lambda x,y: YOUR_FUNCTION_OF_(x,y), ['column1','column2']) as we learned in lab#2)\n",
    "\n",
    "# Answer key: \n",
    "test['predicted'] = \n",
    "test"
   ]
  },
  {
   "cell_type": "markdown",
   "metadata": {},
   "source": [
    "### 3.4c Compute the accuracy"
   ]
  },
  {
   "cell_type": "code",
   "execution_count": null,
   "metadata": {},
   "outputs": [],
   "source": [
    "# Your task: compute the accuracy of the predictions. \n",
    "# (HINT: use np.count_nonzero() to count correct predictions)\n",
    "\n",
    "# Answer key:\n",
    "accuracy = \n",
    "\n",
    "print(\"Prediction accuracy: \" + str(accuracy) + \"%\")"
   ]
  },
  {
   "cell_type": "markdown",
   "metadata": {},
   "source": [
    "### (Optional) IF time allows...\n",
    "\n",
    "### Questions:\n",
    "* What is the kNN predicted travel mode when delta_travel_time = 50, delta_travel_cost = 1.5 when we use... \n",
    " - 1 nearest neighbors to predict travel mode? \n",
    " - 3 nearest neighbors to predict travel mode? \n",
    " - 5 nearest neighbors to predict travel mode? \n",
    " - 10 nearest neighbors to predict travel mode? \n",
    " - 50 nearest neighbors to predict travel mode?\n",
    "\n",
    "\n",
    "\n",
    "* Describe in words the decision rule (how we decide the travel mode) for k-nearest neighbors when k=1?\n",
    "\n",
    "\n",
    "* Describe in words the decision rule (how we decide the travel mode) for k-nearest neighbors when k=10?\n",
    "\n",
    "\n",
    "* For the task of classifying travel mode, do you think it makes more sense to use k=1 or k=10?"
   ]
  },
  {
   "cell_type": "code",
   "execution_count": null,
   "metadata": {
    "collapsed": true
   },
   "outputs": [],
   "source": [
    "# 1 nearest neighbor: \n",
    "# Answer:\n",
    "\n",
    "# 3 nearest neighbors: \n",
    "# Answer: \n",
    "\n",
    "# 5 nearest neighbors: \n",
    "# Answer:\n",
    "\n",
    "# 10 nearest neighbors: \n",
    "# Answer:\n",
    "\n",
    "# 50 nearest neighbors: \n",
    "# Answer:\n",
    "\n",
    "# Describe in words the decision rule (how we decide the travel mode) for k-nearest neighbors when k=1?\n",
    "# Answer: \n",
    "\n",
    "# Describe in words the decision rule (how we decide the travel mode) for k-nearest neighbors when k=10?\n",
    "# Answer:\n",
    "\n",
    "# For the task of classifying travel mode, do you think it makes more sense to use k=1 or k=10?\n",
    "# Answer:"
   ]
  }
 ],
 "metadata": {
  "kernelspec": {
   "display_name": "Python [py36]",
   "language": "python",
   "name": "Python [py36]"
  },
  "language_info": {
   "codemirror_mode": {
    "name": "ipython",
    "version": 3
   },
   "file_extension": ".py",
   "mimetype": "text/x-python",
   "name": "python",
   "nbconvert_exporter": "python",
   "pygments_lexer": "ipython3",
   "version": "3.6.1"
  }
 },
 "nbformat": 4,
 "nbformat_minor": 2
}
