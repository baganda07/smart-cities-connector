{
 "cells": [
  {
   "cell_type": "markdown",
   "metadata": {},
   "source": [
    "# Classifying Iris flowers"
   ]
  },
  {
   "cell_type": "code",
   "execution_count": 101,
   "metadata": {},
   "outputs": [],
   "source": [
    "from datascience import *\n",
    "import numpy as np\n",
    "%matplotlib inline\n",
    "import matplotlib.pyplot as plots\n",
    "plots.style.use('fivethirtyeight')"
   ]
  },
  {
   "cell_type": "markdown",
   "metadata": {},
   "source": [
    "We will be classifying Iris flowers using k nearest neighbors. For more information about the dataset : https://en.wikipedia.org/wiki/Iris_flower_data_set"
   ]
  },
  {
   "cell_type": "code",
   "execution_count": 102,
   "metadata": {},
   "outputs": [
    {
     "data": {
      "text/html": [
       "<table border=\"1\" class=\"dataframe\">\n",
       "    <thead>\n",
       "        <tr>\n",
       "            <th>sepal length in cm</th> <th> sepal width in cm</th> <th>petal length in cm</th> <th>petal width in cm</th> <th>Class</th>\n",
       "        </tr>\n",
       "    </thead>\n",
       "    <tbody>\n",
       "        <tr>\n",
       "            <td>7                 </td> <td>3.2               </td> <td>4.7               </td> <td>1.4              </td> <td>Iris-versicolor</td>\n",
       "        </tr>\n",
       "    </tbody>\n",
       "        <tr>\n",
       "            <td>6.4               </td> <td>3.2               </td> <td>4.5               </td> <td>1.5              </td> <td>Iris-versicolor</td>\n",
       "        </tr>\n",
       "    </tbody>\n",
       "        <tr>\n",
       "            <td>6.9               </td> <td>3.1               </td> <td>4.9               </td> <td>1.5              </td> <td>Iris-versicolor</td>\n",
       "        </tr>\n",
       "    </tbody>\n",
       "        <tr>\n",
       "            <td>5.5               </td> <td>2.3               </td> <td>4                 </td> <td>1.3              </td> <td>Iris-versicolor</td>\n",
       "        </tr>\n",
       "    </tbody>\n",
       "        <tr>\n",
       "            <td>6.5               </td> <td>2.8               </td> <td>4.6               </td> <td>1.5              </td> <td>Iris-versicolor</td>\n",
       "        </tr>\n",
       "    </tbody>\n",
       "        <tr>\n",
       "            <td>5.7               </td> <td>2.8               </td> <td>4.5               </td> <td>1.3              </td> <td>Iris-versicolor</td>\n",
       "        </tr>\n",
       "    </tbody>\n",
       "        <tr>\n",
       "            <td>6.3               </td> <td>3.3               </td> <td>4.7               </td> <td>1.6              </td> <td>Iris-versicolor</td>\n",
       "        </tr>\n",
       "    </tbody>\n",
       "        <tr>\n",
       "            <td>4.9               </td> <td>2.4               </td> <td>3.3               </td> <td>1                </td> <td>Iris-versicolor</td>\n",
       "        </tr>\n",
       "    </tbody>\n",
       "        <tr>\n",
       "            <td>6.6               </td> <td>2.9               </td> <td>4.6               </td> <td>1.3              </td> <td>Iris-versicolor</td>\n",
       "        </tr>\n",
       "    </tbody>\n",
       "        <tr>\n",
       "            <td>5.2               </td> <td>2.7               </td> <td>3.9               </td> <td>1.4              </td> <td>Iris-versicolor</td>\n",
       "        </tr>\n",
       "    </tbody>\n",
       "</table>\n",
       "<p>... (90 rows omitted)</p"
      ],
      "text/plain": [
       "sepal length in cm |  sepal width in cm | petal length in cm | petal width in cm | Class\n",
       "7                  | 3.2                | 4.7                | 1.4               | Iris-versicolor\n",
       "6.4                | 3.2                | 4.5                | 1.5               | Iris-versicolor\n",
       "6.9                | 3.1                | 4.9                | 1.5               | Iris-versicolor\n",
       "5.5                | 2.3                | 4                  | 1.3               | Iris-versicolor\n",
       "6.5                | 2.8                | 4.6                | 1.5               | Iris-versicolor\n",
       "5.7                | 2.8                | 4.5                | 1.3               | Iris-versicolor\n",
       "6.3                | 3.3                | 4.7                | 1.6               | Iris-versicolor\n",
       "4.9                | 2.4                | 3.3                | 1                 | Iris-versicolor\n",
       "6.6                | 2.9                | 4.6                | 1.3               | Iris-versicolor\n",
       "5.2                | 2.7                | 3.9                | 1.4               | Iris-versicolor\n",
       "... (90 rows omitted)"
      ]
     },
     "execution_count": 102,
     "metadata": {},
     "output_type": "execute_result"
    }
   ],
   "source": [
    "data = Table.read_table(\"Iris.csv\")\n",
    "data = data.where(4, are.not_equal_to(\"Iris-setosa\"))\n",
    "data"
   ]
  },
  {
   "cell_type": "markdown",
   "metadata": {},
   "source": [
    "Use a scatter plot to determine which two variables are best to use for classifier"
   ]
  },
  {
   "cell_type": "code",
   "execution_count": null,
   "metadata": {},
   "outputs": [],
   "source": []
  },
  {
   "cell_type": "markdown",
   "metadata": {},
   "source": [
    "Split the data into a training set and a testing set"
   ]
  },
  {
   "cell_type": "code",
   "execution_count": 2,
   "metadata": {},
   "outputs": [],
   "source": [
    "data  = None #TODO: Shuffle\n",
    "train = None #TODO: Make training set\n",
    "test  = None #TODO: Make test set"
   ]
  },
  {
   "cell_type": "markdown",
   "metadata": {},
   "source": [
    "Create distance functions that help calculate the distance between two data points."
   ]
  },
  {
   "cell_type": "code",
   "execution_count": 129,
   "metadata": {},
   "outputs": [],
   "source": [
    "def distance(point1, point2):\n",
    "    \"\"\"Returns the distance between point1 and point2\n",
    "    where each argument is an array \n",
    "    consisting of the coordinates of the point\"\"\"\n",
    "    #Implement this function. Use as many lines as you wish\n",
    "    return None\n",
    "\n",
    "def all_distances(training, new_point):\n",
    "    \"\"\"Returns an array of distances\n",
    "    between each point in the training set\n",
    "    and the new point (which is a row of attributes)\"\"\"\n",
    "    #Implement this function. Use as many lines as you wish\n",
    "    return None\n",
    "\n",
    "def table_with_distances(training, new_point):\n",
    "    \"\"\"Augments the training table \n",
    "    with a column of distances from new_point\"\"\"\n",
    "    #Implement this function. Use as many lines as you wish\n",
    "    return None"
   ]
  },
  {
   "cell_type": "markdown",
   "metadata": {},
   "source": [
    "Create functions that determine which class has the k nearest points"
   ]
  },
  {
   "cell_type": "code",
   "execution_count": 7,
   "metadata": {},
   "outputs": [],
   "source": [
    "def closest(training, new_point, k):\n",
    "    \"\"\"Returns a table of the k rows of the augmented table\n",
    "    corresponding to the k smallest distances\"\"\"\n",
    "    #Implement this function. Use as many lines as you wish\n",
    "    #Hint: table_with_distance function might be helpful\n",
    "    #Hint: the sorting method from the datascience library might be helpful\n",
    "    return None\n",
    "\n",
    "def majority(topkclasses):\n",
    "    \"\"\"Returns the name of the class which has the majority in a given set\"\"\"\n",
    "    #Implement this function. Use as many lines as you wish\n",
    "    #Your return statement may look something like this...(But feel free to change!)\n",
    "    if None:\n",
    "        return None\n",
    "    else:\n",
    "        return None"
   ]
  },
  {
   "cell_type": "markdown",
   "metadata": {},
   "source": [
    "Create the general classify function that will take in a training set of flowers, data on an unknown flower, and the chosen value of k"
   ]
  },
  {
   "cell_type": "code",
   "execution_count": 8,
   "metadata": {},
   "outputs": [],
   "source": [
    "def classify(training, new_point, k):\n",
    "    #Implement this function. Use as many lines as you wish\n",
    "    #Hint : Most of the work for this function has already been done in closest and majority functions\n",
    "    return None"
   ]
  },
  {
   "cell_type": "markdown",
   "metadata": {},
   "source": [
    "Classify the test set using the training set"
   ]
  },
  {
   "cell_type": "code",
   "execution_count": 131,
   "metadata": {},
   "outputs": [],
   "source": [
    "train_class = #Select the two attributes to classify and the class\n",
    "test_class = #Select the two attributes to classify "
   ]
  },
  {
   "cell_type": "markdown",
   "metadata": {},
   "source": [
    "Build an array with the results of the classifier for each row. You are encouraged to experiment with the values of k. Remember to use odd values though!"
   ]
  },
  {
   "cell_type": "code",
   "execution_count": 12,
   "metadata": {
    "scrolled": true
   },
   "outputs": [],
   "source": [
    "results = []\n",
    "#You may want to implement a for loop here\n",
    "results"
   ]
  },
  {
   "cell_type": "markdown",
   "metadata": {},
   "source": [
    "If you have done the above cells correctly, this cell should output the original test table with a column showing\n",
    "what your classifier decided for each data point"
   ]
  },
  {
   "cell_type": "code",
   "execution_count": 5,
   "metadata": {},
   "outputs": [],
   "source": [
    "test = test.with_column(\"Classified\", results)\n",
    "test"
   ]
  },
  {
   "cell_type": "markdown",
   "metadata": {},
   "source": [
    "Compute the accuracy. The solutions only took 1 line but feel free to use as many as you like."
   ]
  },
  {
   "cell_type": "code",
   "execution_count": 6,
   "metadata": {},
   "outputs": [],
   "source": [
    "accuracy = None\n",
    "accuracy"
   ]
  }
 ],
 "metadata": {
  "kernelspec": {
   "display_name": "Python 3",
   "language": "python",
   "name": "python3"
  },
  "language_info": {
   "codemirror_mode": {
    "name": "ipython",
    "version": 3
   },
   "file_extension": ".py",
   "mimetype": "text/x-python",
   "name": "python",
   "nbconvert_exporter": "python",
   "pygments_lexer": "ipython3",
   "version": "3.6.1"
  }
 },
 "nbformat": 4,
 "nbformat_minor": 2
}
