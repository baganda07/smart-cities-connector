{
 "cells": [
  {
   "cell_type": "markdown",
   "metadata": {},
   "source": [
    "### CE88: Data Science for Smart Cities - 11/27/17\n",
    "\n",
    "# *K-means Clustering: Electric Car Battery Level Clustering*\n",
    "\n",
    "In this lab session, we will analyze how battery (SOC) profiles of electric cars can be classifed into 'k' different categories using k-means clustering algorithm. We will utilize sklearn.cluster.Kmeans library to fit & predict the SOC profile of each vehicle. "
   ]
  },
  {
   "cell_type": "code",
   "execution_count": null,
   "metadata": {
    "collapsed": true
   },
   "outputs": [],
   "source": [
    "from datascience import *\n",
    "import numpy as np\n",
    "import pandas as pd\n",
    "\n",
    "import matplotlib.pyplot as plt\n",
    "import matplotlib.colors as colors\n",
    "import matplotlib.cm as cmx\n",
    "\n",
    "from sklearn.cluster import KMeans\n",
    "from sklearn.datasets import make_blobs\n",
    "\n",
    "%matplotlib inline\n",
    "import warnings\n",
    "warnings.filterwarnings(\"ignore\")"
   ]
  },
  {
   "cell_type": "markdown",
   "metadata": {},
   "source": [
    "# 1. Introduction to Clustering\n",
    "[Scikit-learn](http://scikit-learn.org/stable/) is a python package that can help you to do more advanced predictive and exploratory analysis with data. Today we are going to learn about a [clustering method](http://scikit-learn.org/stable/modules/clustering.html#k-means) used for systematically grouping similar datapoints."
   ]
  },
  {
   "cell_type": "code",
   "execution_count": null,
   "metadata": {
    "collapsed": true
   },
   "outputs": [],
   "source": [
    "plt.figure(figsize=(12, 12))\n",
    "\n",
    "# Sample number\n",
    "n_samples = 1500\n",
    "\n",
    "# Number of blobs (number of clusters)\n",
    "n_blobs = 7\n",
    "\n",
    "# This is an arbitrary seed for random generator\n",
    "random_state = 33\n",
    "\n",
    "# Generate blobs that have 7 clusters\n",
    "X, y = make_blobs(n_samples=n_samples, centers=n_blobs, random_state=random_state)\n",
    "\n",
    "# Scatter plot of the generated data\n",
    "plt.subplot(221)\n",
    "plt.scatter(X[:, 0], X[:, 1], c=np.ones(n_samples))\n",
    "plt.title(\"Data\")\n",
    "\n",
    "# Cluster with the correct number of clusters\n",
    "y_pred = KMeans(n_clusters=n_blobs, random_state=random_state).fit_predict(X)\n",
    "\n",
    "plt.subplot(222)\n",
    "plt.scatter(X[:, 0], X[:, 1], c=y_pred)\n",
    "plt.title(\"Correct number of clusters\")\n",
    "\n",
    "# Cluster with the wrong (fewer than correct) number of clusters\n",
    "y_pred = KMeans(n_clusters=3, random_state=random_state).fit_predict(X)\n",
    "\n",
    "plt.subplot(223)\n",
    "plt.scatter(X[:, 0], X[:, 1], c=y_pred)\n",
    "plt.title(\"Wrong number of clusters: too few\")\n",
    "\n",
    "\n",
    "# Cluster with the wrong (more than correct) number of clusters\n",
    "y_pred = KMeans(n_clusters=8, random_state=random_state).fit_predict(X)\n",
    "\n",
    "plt.subplot(224)\n",
    "plt.scatter(X[:, 0], X[:, 1], c=y_pred)\n",
    "plt.title(\"Wrong number of clusters: too many\")"
   ]
  },
  {
   "cell_type": "markdown",
   "metadata": {},
   "source": [
    "# 2. Clustering EV users with similar driving and charging patterns\n",
    "\n",
    "## 2.1 About the dataset\n",
    "'EV_soc.csv' contains data on the state of charge (SOC), meaning the % battery remaining, for 1023 Electric Vehicles (EVs). The dataset has the SOC for each car for every 5 minute interval in the day. The driver column indicates the driver id, the day indicates the day of the week, where 1=Sunday. The ##_soc columns each correspond to a 5-min interval of the day.\n",
    "\n",
    "In this lab we will see how we can use clustering to identify drivers with similar driving and charging habits.\n"
   ]
  },
  {
   "cell_type": "code",
   "execution_count": null,
   "metadata": {
    "collapsed": true
   },
   "outputs": [],
   "source": [
    "soc = Table.read_table('EV_soc.csv')\n",
    "soc"
   ]
  },
  {
   "cell_type": "markdown",
   "metadata": {},
   "source": [
    "### 2.1.1 Calculate rolling averages of SOC profile\n",
    "The rolling_window=6 parameter is used to compute the rolling average over a half hour timespan, rather than \n",
    "considering each 5 min interval independently. "
   ]
  },
  {
   "cell_type": "code",
   "execution_count": null,
   "metadata": {
    "collapsed": true
   },
   "outputs": [],
   "source": [
    "# Rolling window size -- this is to get the rolling average (6*5 = 30 mins)\n",
    "rolling_window = 6\n",
    "\n",
    "# Your task: only select data of Tuesday (day == 3)\n",
    "# Answer key: \n",
    "soc_tuesday = \n",
    "\n",
    "# Your task: drop the first two columns ('driver' and 'day') of the table and convert Table to dataframe\n",
    "# Note - sklearn is less likely compatible with datascience.table. library. \n",
    "#        Therefore, when you use sklearn, pandas.dataframe is recommended.\n",
    "# (HINT: use Table.to_df() function to convert a Table to pandas dataframe)\n",
    "# Answer key:\n",
    "X = \n",
    "\n",
    "# Your task: get rolling average of SOC over time with rolling_window = 6\n",
    "# (HINT: use pd.rolling_mean() function to get the rolling average)\n",
    "# Answer key:\n",
    "X_rolling = "
   ]
  },
  {
   "cell_type": "markdown",
   "metadata": {},
   "source": [
    "## 2.2 Clustering EVs with similar Tuesday Charging Habits\n",
    "\n",
    "In the following section I grabbed the SOC data where day=3 (Tuesday). The Scikit-learn K-means package does all of the heavy lifting for us, and finds ways to group similar drivers that have the most similar SOC data throughout the day. We found 5 clusters works well to identify unique driving/charging habbits."
   ]
  },
  {
   "cell_type": "markdown",
   "metadata": {},
   "source": [
    "### 2.2.1 Find optimal 'k'\n",
    "The algorithm is somewhat naive--it clusters the data into k clusters, even if k is not the right number of clusters to use. Therefore, when using k-means clustering, we need some ways to determine whether you are using the right number of clusters.\n",
    "\n",
    "One method to validate the number of clusters is the **elbow method**. The idea of the elbow method is to run k-means clustering on the dataset for a range of values of k (say, k from 1 to 10 in the examples above), and for each value of k calculate the sum of squared errors (SSE)."
   ]
  },
  {
   "cell_type": "code",
   "execution_count": null,
   "metadata": {
    "collapsed": true
   },
   "outputs": [],
   "source": [
    "def getSSE(X, maxK=10):\n",
    "    '''\n",
    "    Return a list of Sum of Squared Errors (SSE) over a range of cluster numbers based on elbow method\n",
    "    \n",
    "    <Input>\n",
    "    (Dataframe) X: data to determine SSE\n",
    "    (Integer) maxK: maximum number of cluster (default = 10)\n",
    "    \n",
    "    <Outout>\n",
    "    (ndarray) an array of SSEs associated with number of clusters\n",
    "    '''\n",
    "    sse = np.zeros((maxK,1))\n",
    "    for k in np.arange(1,maxK+1):\n",
    "        estimator = KMeans(n_clusters=k)\n",
    "        estimator.fit(X)\n",
    "        for l in estimator.labels_:\n",
    "            data = X[estimator.labels_==l]\n",
    "            data_mean = np.mean(data)\n",
    "            sse[k-1] += np.sum((data-data_mean).values**2)\n",
    "    return sse\n",
    "\n",
    "# NOTE: Running this cell would take 25-30 seconds\n",
    "maxK=6\n",
    "plt.plot(np.arange(1,maxK+1),getSSE(X_rolling, maxK))\n",
    "plt.xlabel('Number of clusters (k)')\n",
    "plt.ylabel('Sum of Squared Errors')"
   ]
  },
  {
   "cell_type": "markdown",
   "metadata": {},
   "source": [
    "### 2.2.2 Fit the Kmeans estimator with SOC profile of rolling averaged\n",
    "\n",
    "We have already completed the code to fit the estimator using sklearn. You will see how simple it is!"
   ]
  },
  {
   "cell_type": "code",
   "execution_count": null,
   "metadata": {
    "collapsed": true
   },
   "outputs": [],
   "source": [
    "# Fit the estimator\n",
    "n_clusters = 5\n",
    "estimator = KMeans(n_clusters=n_clusters)\n",
    "estimator.fit(X_rolling)"
   ]
  },
  {
   "cell_type": "markdown",
   "metadata": {},
   "source": [
    "### 2.2.3 Visualize the clusters\n",
    "\n",
    "Effective visualization is a very important task to analyze your clusters. In this section, you will learn a visualization technique of plotting multiple graphs in a same figure using for loops."
   ]
  },
  {
   "cell_type": "code",
   "execution_count": null,
   "metadata": {
    "collapsed": true
   },
   "outputs": [],
   "source": [
    "# Get color map array -- this is just getting N distinguished colors that assigned with N clusters\n",
    "jet = plt.get_cmap('jet') \n",
    "cNorm  = colors.Normalize(vmin=0, vmax=n_clusters-1)\n",
    "scalarMap = cmx.ScalarMappable(norm=cNorm, cmap=jet)\n",
    "colorVals = [scalarMap.to_rgba(i) for i in range(n_clusters)]"
   ]
  },
  {
   "cell_type": "markdown",
   "metadata": {},
   "source": [
    "** Example: Visualize SOC profiles of label = 1 **"
   ]
  },
  {
   "cell_type": "code",
   "execution_count": null,
   "metadata": {
    "collapsed": true
   },
   "outputs": [],
   "source": [
    "# x-values\n",
    "x_ticks = np.arange(rolling_window-1,soc.drop([0,1]).num_columns)/12.\n",
    "\n",
    "# create a new figure for i-th cluster\n",
    "plt.figure()\n",
    "\n",
    "# Y-values\n",
    "data = X_rolling[estimator.labels_== 1]\n",
    "\n",
    "for j in range(data.shape[0]):\n",
    "    # SOC profile of each EV driver\n",
    "    plt.plot(x_ticks, data.T[data.index[j]], color=colorVals[1], alpha=.05)\n",
    "\n",
    "# Your task: plot centroid of the cluster. In this case, the centroid is the mean of SOC profiles over EV users.\n",
    "# Answer key:\n",
    "\n",
    "# x, ylabel, title...\n",
    "plt.xlabel('Hour')\n",
    "plt.ylabel('State of charge')\n",
    "plt.ylim(0,1.2)\n",
    "plt.title('State of charge per EV')\n",
    "textstr = 'N = %i, %.1f%% of vehicles'%(len(data),float(len(data)*100/len(X_rolling)))\n",
    "plt.text(7, 1.1, textstr, fontsize=10,verticalalignment='top')"
   ]
  },
  {
   "cell_type": "markdown",
   "metadata": {},
   "source": [
    "** Visualize multiple figures **"
   ]
  },
  {
   "cell_type": "code",
   "execution_count": null,
   "metadata": {
    "collapsed": true
   },
   "outputs": [],
   "source": [
    "# Multiple figures \n",
    "for i in range(n_clusters):\n",
    "    # Your task: show SOC profiles of each cluster in each figure\n",
    "    # Answer key:"
   ]
  },
  {
   "cell_type": "markdown",
   "metadata": {},
   "source": [
    "## 2.3 Overlaying the clusters and plotting the derivatives\n",
    "In this section, we will analyse how each cluster is distinguished to each other in terms of change in SOC."
   ]
  },
  {
   "cell_type": "code",
   "execution_count": null,
   "metadata": {
    "collapsed": true
   },
   "outputs": [],
   "source": [
    "def get_slope(y, x):\n",
    "    '''\n",
    "    Get the derivative of y with respect to x\n",
    "    '''\n",
    "    dys = y[1:]-y[:-1]\n",
    "    dxs = x[1:]-x[:-1]\n",
    "    return dys/dxs"
   ]
  },
  {
   "cell_type": "code",
   "execution_count": null,
   "metadata": {
    "collapsed": true
   },
   "outputs": [],
   "source": [
    "#Plot the derivative\n",
    "plt.figure(figsize = (8,8))\n",
    "for i in range(n_clusters):\n",
    "    dy_dx = get_slope(np.array(np.mean(X_rolling[estimator.labels_==i])), x_ticks)\n",
    "    plt.plot(x_ticks[:-1], dy_dx, color=colorVals[i], linewidth=2)\n",
    "    \n",
    "plt.plot(x_ticks[:-1], np.zeros(len(x_ticks[:-1])), color = 'grey')\n",
    "plt.xlabel('Hour')\n",
    "plt.ylabel('Change in state of charge')\n",
    "plt.title('Change in state of charge per EV')\n"
   ]
  },
  {
   "cell_type": "markdown",
   "metadata": {},
   "source": [
    "## Exercise \n",
    "My initial thought was that there would maybe be 2 unique charging patterns, one for commuters, and another for families who use EVs as a 2nd vehicle, or non-commuter vehicle. "
   ]
  },
  {
   "cell_type": "markdown",
   "metadata": {},
   "source": [
    "**Task 1 -** Adjust the number of clusters to 2 and describe the trends in the two clusters. "
   ]
  },
  {
   "cell_type": "code",
   "execution_count": null,
   "metadata": {
    "collapsed": true
   },
   "outputs": [],
   "source": [
    "# Your answers here:\n",
    "\n",
    "\n"
   ]
  },
  {
   "cell_type": "markdown",
   "metadata": {},
   "source": [
    "**Task 2 -** Now adjust the number of clusters to 10. Do you see multiple clusters that show very similar SOC patterns? If so then these can probably be combined, and we can reduce the number of clusters."
   ]
  },
  {
   "cell_type": "code",
   "execution_count": null,
   "metadata": {
    "collapsed": true
   },
   "outputs": [],
   "source": [
    "# Your answers here:\n",
    "\n",
    "\n"
   ]
  },
  {
   "cell_type": "markdown",
   "metadata": {},
   "source": [
    "## (Optional) IF time allows: clustering behavior for the whole workweek\n",
    "In the previous section we clustered EV data for a single work day. Now we will look to cluster similar driving and charging behacior for the whole workweek. Each row in 'workweek_soc.csv' contains EV SOC data for the entire workweek rather than a single day. \n",
    "\n",
    "Again I found that 5 clusters seemed to capture the unique charging behavior well. Run the code below to see the workweek clustering results."
   ]
  },
  {
   "cell_type": "markdown",
   "metadata": {},
   "source": [
    "**Task 3 -** Find 5 clusters and plot SOC per EV for each cluster. "
   ]
  },
  {
   "cell_type": "code",
   "execution_count": null,
   "metadata": {
    "collapsed": true
   },
   "outputs": [],
   "source": [
    "# Use this dataframe\n",
    "week_soc = Table.read_table('workweek_soc.csv')\n",
    "week_df = week_soc.drop('driver').to_df()\n",
    "\n",
    "n_clusters=5\n",
    "rolling_window = 6\n",
    "\n",
    "# get color map array\n",
    "jet = plt.get_cmap('jet') \n",
    "cNorm  = colors.Normalize(vmin=0, vmax=n_clusters-1)\n",
    "scalarMap = cmx.ScalarMappable(norm=cNorm, cmap=jet)\n",
    "colorVals = [scalarMap.to_rgba(i) for i in range(n_clusters)]\n",
    "\n",
    "# Get rolling average\n",
    "X_rolling = (pd.rolling_mean(week_df.T,window=rolling_window)[rolling_window-1::]).T"
   ]
  },
  {
   "cell_type": "code",
   "execution_count": null,
   "metadata": {
    "collapsed": true,
    "scrolled": false
   },
   "outputs": [],
   "source": [
    "# Your answers here:\n"
   ]
  },
  {
   "cell_type": "code",
   "execution_count": null,
   "metadata": {
    "collapsed": true
   },
   "outputs": [],
   "source": []
  }
 ],
 "metadata": {
  "kernelspec": {
   "display_name": "Python [py36]",
   "language": "python",
   "name": "Python [py36]"
  },
  "language_info": {
   "codemirror_mode": {
    "name": "ipython",
    "version": 3
   },
   "file_extension": ".py",
   "mimetype": "text/x-python",
   "name": "python",
   "nbconvert_exporter": "python",
   "pygments_lexer": "ipython3",
   "version": "3.6.1"
  }
 },
 "nbformat": 4,
 "nbformat_minor": 1
}
