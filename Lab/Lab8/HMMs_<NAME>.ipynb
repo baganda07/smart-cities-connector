{
 "cells": [
  {
   "cell_type": "markdown",
   "metadata": {},
   "source": [
    "### CE88: Data Science for Smart Cities - 10/30/17\n",
    "\n",
    "# *Hidden Markov models*\n"
   ]
  },
  {
   "cell_type": "markdown",
   "metadata": {},
   "source": [
    "Two students have gotten into an argument over the weather. One thinks\n",
    "summer is over and Autumn has already come, while the other thinks it is still summer.\n",
    "\n",
    "There are four seasons - Spring (S), Summer (M), Autumn (A), and Winter (W). \n",
    "Given the season the previous day, the season on a day is conditionally independent\n",
    "of the season on all previous days. The weather is either Hot (H), Rainy (R) or Freezing\n",
    "(F). Given the season on any given day, the weather that day is independent of all other\n",
    "variables.\n",
    "\n",
    "\n",
    "More formally, if we let $C_i$ denote the season on the $i$-th day (taking values S, M, A, W) and\n",
    "$O_i$ denote the observed weather pattern (one of H, R, F). We have $\\forall j < i-1, C_i \\perp C_j \\mid C_{i-1}$\n",
    "and $\\forall X, O_i \\perp X \\mid C_i$ where $X$ is any random variable other than $C_i$, $O_i$.\n",
    "\n",
    "\n",
    "**Part 2. (40 points)** We have made 20 observation of the weather over the last few months (i.e.,\n",
    "$O_1,...,O_{20}$): $\\{R,F,F,H,F,H,H,H,H,H,H,H,H,R,H,H,H,R,H,H\\}$.\n",
    "\n",
    "\n",
    "The prior, transition and emission matrices are given as below:\n",
    "\n",
    "$p(C_0)$\n",
    "\n",
    "<img src=\"prior.png\", width=\"300\">\n",
    "\n",
    "$p(C_{t+1} \\mid C_t)$\n",
    "\n",
    "<img src=\"transition.png\", width=\"300\">\n",
    "\n",
    "$p(O_t \\mid C_t)$\n",
    "\n",
    "<img src=\"emission.png\", width=\"300\">\n",
    "\n",
    "\n",
    "- Compute the probability of (S, M, A, W) for each of first 15 observations (e.g., $\\forall t, p(C_t = M \\mid O_1,...,O_{15}))$. The answer should be $(4 \\times 15)$ probability matrix. Plot probabilities of all states for 15 steps on the same figure with different colors (your x-axis would be time steps, y-axis probability of each states).\n",
    "\n",
    "\n",
    "- Determine the most likely sequence of states, $C_1,...,C_N$ that generated this observed sequence.\n",
    "\n",
    "\n",
    "- What is the probability of the observed sequence, given the model parameters, i.e. $ p(O_1,O_2,...,O_{15} \\mid T,E,P_0)$?\n",
    "\n",
    "\n",
    "- What is the probability of the observed sequence and most probable hidden states, given the model parameters, i.e. $ p((O_1,O_2,...,O_{15}), (C_1,C_2,...,C_{15}) \\mid T,E,P_0)$?\n",
    "\n",
    "\n",
    "- Now, let's see how well this model performs. Predict the output symbols (observations) for time\n",
    "points $t = 16,...,20$ by carrying out the following steps for each time point $t$:\n",
    "\n",
    "\n",
    "    - Run the forward algorithm to estimate $p(C_{t} \\mid O_{1},...,O_{t-1})$. \n",
    "\n",
    "    - Compute $p(C_t)$ from $p(C_{t-1})$ using the transition matrix. Generate the output value $O_t$ by sampling a state $c_t$ from $p(C_t)$ and then from $p(O_t mid C_t = c_t)$.\n",
    "\n",
    "    -Compare your predictions with the ground truth observations at time points $t = 15,...,20$. What's the percentage of these values that your model predicts correctly?"
   ]
  },
  {
   "cell_type": "code",
   "execution_count": 3,
   "metadata": {
    "collapsed": true
   },
   "outputs": [],
   "source": [
    "from datascience import *\n",
    "import numpy as np\n",
    "import matplotlib.pyplot as plt\n",
    "import hmms\n",
    "%matplotlib inline\n"
   ]
  },
  {
   "cell_type": "markdown",
   "metadata": {},
   "source": [
    "### Let's first create the models and do some fun with HMMs"
   ]
  },
  {
   "cell_type": "code",
   "execution_count": 4,
   "metadata": {
    "collapsed": true
   },
   "outputs": [],
   "source": [
    "# prior\n",
    "Pi = np.array([0.15,0.6,0.2,0.05])\n",
    "\n",
    "# transition probabilities\n",
    "Trans = np.array([[0.8,0.17,0.02,0.01],[0.1,0.7,0.19,0.01],[0.02,0.05,0.7,0.23],[0.2,0.01,0.04,0.75]])\n",
    "\n",
    "#Emission probabilities\n",
    "Emiss = np.array([[0.4,0.3,0.3],[0.5,0.45,0.05],[0.3,0.4,0.3],[0.0001,0.2499,0.75]])\n",
    "\n",
    "# Observation sequence that is given to us\n",
    "Obs_seq = np.array([1,2,2,0,2,0,0,0,0,0,0,0,0,1,0,0,0,1,0,0])\n"
   ]
  },
  {
   "cell_type": "code",
   "execution_count": 5,
   "metadata": {
    "collapsed": true
   },
   "outputs": [],
   "source": [
    "# Create DtHMM by given parameters.\n",
    "dhmm = hmms.DtHMM(Trans,Emiss,Pi)"
   ]
  },
  {
   "cell_type": "markdown",
   "metadata": {},
   "source": [
    "You can get parameters by calling them separately,\n"
   ]
  },
  {
   "cell_type": "code",
   "execution_count": null,
   "metadata": {
    "scrolled": true
   },
   "outputs": [],
   "source": []
  },
  {
   "cell_type": "markdown",
   "metadata": {},
   "source": [
    "### Generate Random State and Emission Sequence\n",
    "\n",
    "Now we can use our model to generate state and emission sequence.\n",
    "\n",
    "The model will randomly choose which transition or emission will happen, taking into consideration the parameters we have previously defined."
   ]
  },
  {
   "cell_type": "code",
   "execution_count": null,
   "metadata": {},
   "outputs": [],
   "source": [
    "\n",
    "#resize plot\n",
    "plt.rcParams['figure.figsize'] = [20,20]\n",
    "\n"
   ]
  },
  {
   "cell_type": "markdown",
   "metadata": {},
   "source": [
    "\n",
    "**Part 1.** Compute the probability of (S, M, A, W) for each of first 15 observations (e.g., $\\forall t, p(C_t = M \\mid O_1,...,O_{15}))$. The answer should be $(4 \\times 15)$ probability matrix. Plot probabilities of all states for 15 steps on the same figure with different colors (your x-axis would be time steps, y-axis probability of each states).\n",
    "\n"
   ]
  },
  {
   "cell_type": "code",
   "execution_count": 8,
   "metadata": {
    "collapsed": true
   },
   "outputs": [],
   "source": []
  },
  {
   "cell_type": "markdown",
   "metadata": {},
   "source": [
    "Now we visualize these probabilities of state throughout time steps 1 to 15"
   ]
  },
  {
   "cell_type": "code",
   "execution_count": null,
   "metadata": {},
   "outputs": [],
   "source": [
    "plt.plot(range(1,15),p_state[:,0], label = \"Spring\")\n",
    "plt.plot(range(1,15),p_state[:,1], label = \"Summer\")\n",
    "plt.plot(range(1,15),p_state[:,2], label = \"Autumn\")\n",
    "plt.plot(range(1,15),p_state[:,3], label = \"Winter\")\n",
    "plt.ylabel('probability of states')\n",
    "plt.xlabel('time step')\n",
    "plt.legend(loc=1, ncol=1)"
   ]
  },
  {
   "cell_type": "markdown",
   "metadata": {},
   "source": [
    "**Part 2.** Determine the most likely sequence of states, $C_1,...,C_N$ that generated this observed sequence."
   ]
  },
  {
   "cell_type": "code",
   "execution_count": null,
   "metadata": {
    "scrolled": true
   },
   "outputs": [],
   "source": []
  },
  {
   "cell_type": "markdown",
   "metadata": {},
   "source": [
    "**Part 3.** What is the probability of the observed sequence, given the model parameters, i.e. $ p(O_1,O_2,...,O_{15} \\mid T,E,P_0)$?"
   ]
  },
  {
   "cell_type": "code",
   "execution_count": null,
   "metadata": {},
   "outputs": [],
   "source": []
  },
  {
   "cell_type": "markdown",
   "metadata": {},
   "source": [
    "**Part 4.** What is the probability of the observed sequence and most probable hidden states, given the model parameters, i.e. $ p((O_1,O_2,...,O_{15}), (C_1,C_2,...,C_{15}) \\mid T,E,P_0)$?\n"
   ]
  },
  {
   "cell_type": "code",
   "execution_count": null,
   "metadata": {},
   "outputs": [],
   "source": []
  },
  {
   "cell_type": "markdown",
   "metadata": {},
   "source": [
    "**Part 5.** Now, let's see how well this model performs. Predict the output symbols (observations) for time\n",
    "points $t = 16,...,20$ by carrying out the following steps for each time point $t$:\n",
    "\n",
    "\n",
    "- Run the forward algorithm to estimate $p(C_{t} \\mid O_{1},...,O_{t-1})$. \n"
   ]
  },
  {
   "cell_type": "code",
   "execution_count": 26,
   "metadata": {
    "collapsed": true
   },
   "outputs": [],
   "source": [
    "p_state = np.zeros((20,4))\n",
    "\n",
    "p_state[0,:] = np.dot(Pi,Trans) * Emiss[:,Obs_seq[0]]\n",
    "p_state[0,:] = p_state[0,:] / sum(p_state[0,:])\n",
    "\n",
    "for i in range(1,19):\n",
    "    p_state[i,:] = np.dot(p_state[(i-1),:],Trans) * Emiss[:,Obs_seq[i]]\n",
    "    p_state[i,:] = p_state[i,:] / sum(p_state[i,:])\n",
    "\n"
   ]
  },
  {
   "cell_type": "markdown",
   "metadata": {},
   "source": [
    "- Compute $p(C_t)$ from $p(C_{t-1})$ using the transition matrix. Generate the output value $O_t$ by sampling a state $c_t$ from $p(C_t)$ and then from $p(O_t \\mid C_t = c_t)$.\n",
    "\n",
    "- Compare your predictions with the ground truth observations at time points $t = 15,...,20$. What's the percentage of these values that your model predicts correctly? Report the average and standard deviation over 100 runs."
   ]
  },
  {
   "cell_type": "code",
   "execution_count": 67,
   "metadata": {
    "collapsed": true
   },
   "outputs": [],
   "source": [
    "est_obs = np.zeros((100,5))\n",
    "\n",
    "for j in range(100):\n",
    "    for i in range(1,6):\n",
    "        p_ct = np.dot(p_state[(i+13),:],Trans)\n",
    "        ct = np.random.choice([0,1,2,3],1,p = p_ct)\n",
    "        p_ot = Emiss[ct,:]\n",
    "        ot = np.random.choice([0,1,2],1,p = p_ot[0,:])\n",
    "        est_obs[j,(i-1)] = ot"
   ]
  },
  {
   "cell_type": "code",
   "execution_count": 95,
   "metadata": {
    "collapsed": true
   },
   "outputs": [],
   "source": [
    "accuracy = np.zeros((1,100))\n",
    "for i in range(100):\n",
    "    accuracy[0][i] = np.sum(est_obs[i,:] == Obs_seq[14:19]) / 5"
   ]
  },
  {
   "cell_type": "code",
   "execution_count": null,
   "metadata": {},
   "outputs": [],
   "source": []
  }
 ],
 "metadata": {
  "kernelspec": {
   "display_name": "Python 3",
   "language": "python",
   "name": "python3"
  },
  "language_info": {
   "codemirror_mode": {
    "name": "ipython",
    "version": 3
   },
   "file_extension": ".py",
   "mimetype": "text/x-python",
   "name": "python",
   "nbconvert_exporter": "python",
   "pygments_lexer": "ipython3",
   "version": "3.6.1"
  },
  "varInspector": {
   "cols": {
    "lenName": 16,
    "lenType": 16,
    "lenVar": 40
   },
   "kernels_config": {
    "python": {
     "delete_cmd_postfix": "",
     "delete_cmd_prefix": "del ",
     "library": "var_list.py",
     "varRefreshCmd": "print(var_dic_list())"
    },
    "r": {
     "delete_cmd_postfix": ") ",
     "delete_cmd_prefix": "rm(",
     "library": "var_list.r",
     "varRefreshCmd": "cat(var_dic_list()) "
    }
   },
   "types_to_exclude": [
    "module",
    "function",
    "builtin_function_or_method",
    "instance",
    "_Feature"
   ],
   "window_display": false
  }
 },
 "nbformat": 4,
 "nbformat_minor": 2
}
