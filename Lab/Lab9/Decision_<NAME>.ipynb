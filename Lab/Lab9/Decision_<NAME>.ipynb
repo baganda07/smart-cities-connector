{
 "cells": [
  {
   "cell_type": "markdown",
   "metadata": {},
   "source": [
    "### CE88: Data Science for Smart Cities - 11/06/17\n",
    "\n",
    "# *Decision Making*\n"
   ]
  },
  {
   "cell_type": "markdown",
   "metadata": {},
   "source": [
    "Consider that you are in charge of the maintenance of one of the piles of Bay Bridge as indicated by the variable $F$ in the figure (a). The pile of the bridge can be in two possible state of *No Damage* or *Damaged*. You also have access to to sensor readings in locations $B$, $D$, and $E$ of the bridge, which each can indicate *No Damage* or *Damaged* in each location. The conditional relationship among the sensor readings and the condition of the pile is given in figure (b). \n",
    "\n",
    "<img src=\"fig.png\", width=\"600\">\n",
    "\n",
    "\n",
    "As a decision maker, you have two possible actions that you can take: *Do Nothing* or *Repair* the pile. The conditional probability table of the sensor at location $D$ and each other child nodes given its parent is given as below:\n",
    "\n",
    "<img src=\"d.png\", width=\"600\">\n",
    "\n",
    "<img src=\"cond_table.png\", width=\"600\">\n",
    "\n",
    "Also the loss based on the actions that you take and the condition state of the pile is given as below:\n",
    "\n",
    "<img src=\"loss.png\", width=\"600\">\n"
   ]
  },
  {
   "cell_type": "markdown",
   "metadata": {},
   "source": [
    "**Part 1.** Find the optimal action and the expected optimal loss, if no information on sensor readings are given."
   ]
  },
  {
   "cell_type": "code",
   "execution_count": null,
   "metadata": {
    "collapsed": true
   },
   "outputs": [],
   "source": []
  },
  {
   "cell_type": "markdown",
   "metadata": {},
   "source": [
    "**Part 2.** What is the value of information of observing the sensor readings at location $E$?"
   ]
  },
  {
   "cell_type": "code",
   "execution_count": null,
   "metadata": {
    "collapsed": true
   },
   "outputs": [],
   "source": []
  }
 ],
 "metadata": {
  "kernelspec": {
   "display_name": "Python 3",
   "language": "python",
   "name": "python3"
  },
  "language_info": {
   "codemirror_mode": {
    "name": "ipython",
    "version": 3
   },
   "file_extension": ".py",
   "mimetype": "text/x-python",
   "name": "python",
   "nbconvert_exporter": "python",
   "pygments_lexer": "ipython3",
   "version": "3.6.1"
  },
  "varInspector": {
   "cols": {
    "lenName": 16,
    "lenType": 16,
    "lenVar": 40
   },
   "kernels_config": {
    "python": {
     "delete_cmd_postfix": "",
     "delete_cmd_prefix": "del ",
     "library": "var_list.py",
     "varRefreshCmd": "print(var_dic_list())"
    },
    "r": {
     "delete_cmd_postfix": ") ",
     "delete_cmd_prefix": "rm(",
     "library": "var_list.r",
     "varRefreshCmd": "cat(var_dic_list()) "
    }
   },
   "types_to_exclude": [
    "module",
    "function",
    "builtin_function_or_method",
    "instance",
    "_Feature"
   ],
   "window_display": false
  }
 },
 "nbformat": 4,
 "nbformat_minor": 2
}
